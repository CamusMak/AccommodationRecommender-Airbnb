{
 "cells": [
  {
   "cell_type": "code",
   "execution_count": 1,
   "id": "3bda820f-11fa-4c2b-bfda-d3d52e48745f",
   "metadata": {},
   "outputs": [],
   "source": [
    "import numpy as np\n",
    "import pandas as pd\n",
    "import matplotlib.pyplot as plt\n",
    "\n",
    "# import nltk\n",
    "# from nltk.corpus import stopwords\n",
    "from gensim.parsing.preprocessing import remove_stopwords \n",
    "import json\n",
    "\n",
    "# from nltk.tokenize import word_tokenize\n",
    "# from nltk.stem import WordNetLemmatizer\n",
    "# from sklearn.feature_extraction.text import TfidfVectorizer\n",
    "# from sklearn.metrics.pairwise import cosine_similarity\n",
    "\n",
    "import sys\n",
    "sys.path.append(\"../AccommodationRecommender-Airbnb/\")\n",
    "\n",
    "from utils.text_similarity import get_embedings,get_similarity\n",
    "\n",
    "import warnings\n",
    "\n",
    "warnings.filterwarnings(\"ignore\")\n"
   ]
  },
  {
   "cell_type": "code",
   "execution_count": null,
   "id": "13691080-ff30-4af8-9d9e-4d77c332ee10",
   "metadata": {},
   "outputs": [],
   "source": []
  },
  {
   "cell_type": "code",
   "execution_count": 2,
   "id": "a100996f-e45b-44b3-8335-982f9dacd49b",
   "metadata": {},
   "outputs": [],
   "source": [
    "df = pd.read_csv(\"data/content_data/content_data.csv\", encoding='utf-8')\n"
   ]
  },
  {
   "cell_type": "code",
   "execution_count": 3,
   "id": "3df7834e-1917-469c-9318-0205ec0dc32a",
   "metadata": {},
   "outputs": [],
   "source": [
    "# not_na_df[\"ItemDescriptionEmbedings\"][0]"
   ]
  },
  {
   "cell_type": "code",
   "execution_count": 4,
   "id": "c35d4661-8fac-4543-a702-c828d252f3bf",
   "metadata": {},
   "outputs": [],
   "source": [
    "df_not_na_price  = df.dropna(subset=['ItemReview','Location','NumberOfGuest','NumberOfBedrooms', 'NumberOfBeds', 'NumberOfBaths',\n",
    "                 'CurrentPrice'])\n",
    "\n",
    "df_full_not_na = df.dropna()"
   ]
  },
  {
   "cell_type": "code",
   "execution_count": null,
   "id": "ac3c2ef7-df11-4f9c-af1d-e0d1dbd29d47",
   "metadata": {},
   "outputs": [],
   "source": []
  },
  {
   "cell_type": "code",
   "execution_count": null,
   "id": "32662b2b-89ad-4c46-9dac-71025571d184",
   "metadata": {},
   "outputs": [],
   "source": []
  },
  {
   "cell_type": "code",
   "execution_count": 5,
   "id": "e8196888-9edb-4fdd-a84c-10668b62f848",
   "metadata": {},
   "outputs": [],
   "source": [
    "# location in one list\n",
    "df_not_na_price[['lower_country','lower_location','lower_city','lower_state']] = df_not_na_price[['Country','Location','City','State']].apply(lambda x: x.str.lower())\n",
    "df_not_na_price['location_list'] = df_not_na_price['lower_location'].apply(lambda x: list(map(str.strip,x.split(\",\"))))\n",
    "\n",
    "\n",
    "df_full_not_na[['lower_country','lower_location','lower_city','lower_state']] = df_full_not_na[['Country','Location','City','State']].apply(lambda x: x.str.lower())\n",
    "df_full_not_na['location_list'] = df_full_not_na['lower_location'].apply(lambda x: list(map(str.strip,x.split(\",\"))))\n",
    "\n",
    "    "
   ]
  },
  {
   "cell_type": "code",
   "execution_count": 6,
   "id": "c902d600-9cda-44bb-849c-0ced93b76dab",
   "metadata": {},
   "outputs": [],
   "source": [
    "df_not_na_price.to_csv(\"data/content_data/not_na_data_price.csv\",index=False)\n",
    "df_full_not_na.to_csv(\"data/content_data/full_not_na_data.csv\",index=False)"
   ]
  },
  {
   "cell_type": "code",
   "execution_count": 7,
   "id": "4c761fe2-3059-4884-b763-1193524ad11e",
   "metadata": {},
   "outputs": [],
   "source": [
    "# text embedings"
   ]
  },
  {
   "cell_type": "code",
   "execution_count": 8,
   "id": "4d00fa5d-a887-46b6-b76f-90e933787be1",
   "metadata": {},
   "outputs": [
    {
     "data": {
      "text/plain": [
       "Index(['ID', 'ItemTitle', 'Section', 'ItemReview', 'ItemReviewBySections',\n",
       "       'ItemRatings', 'HostLevel', 'Location', 'Country', 'State', 'City',\n",
       "       'NumberOfGuest', 'NumberOfBedrooms', 'NumberOfBeds', 'NumberOfBaths',\n",
       "       'CurrentPrice', 'PriceBefore', 'Currency', 'ItemUnit', 'PriceReview',\n",
       "       'PriceRatings', 'ItemDescription', 'Amenities',\n",
       "       'AmenitiesWithCategories', 'NotIncludedAmenity', 'Comments', 'URL',\n",
       "       'lower_country', 'lower_location', 'lower_city', 'lower_state',\n",
       "       'location_list'],\n",
       "      dtype='object')"
      ]
     },
     "execution_count": 8,
     "metadata": {},
     "output_type": "execute_result"
    }
   ],
   "source": [
    "df_full_not_na.columns"
   ]
  },
  {
   "cell_type": "code",
   "execution_count": 9,
   "id": "66b07cb6-9e3a-4d82-a08d-9c2508da1d27",
   "metadata": {},
   "outputs": [],
   "source": [
    "df_embedings = df_full_not_na[['ID','ItemDescription', 'Amenities', 'Comments']]"
   ]
  },
  {
   "cell_type": "code",
   "execution_count": 10,
   "id": "4ce1f389-c54d-44ae-942e-f1d210673b36",
   "metadata": {},
   "outputs": [
    {
     "data": {
      "text/html": [
       "<div>\n",
       "<style scoped>\n",
       "    .dataframe tbody tr th:only-of-type {\n",
       "        vertical-align: middle;\n",
       "    }\n",
       "\n",
       "    .dataframe tbody tr th {\n",
       "        vertical-align: top;\n",
       "    }\n",
       "\n",
       "    .dataframe thead th {\n",
       "        text-align: right;\n",
       "    }\n",
       "</style>\n",
       "<table border=\"1\" class=\"dataframe\">\n",
       "  <thead>\n",
       "    <tr style=\"text-align: right;\">\n",
       "      <th></th>\n",
       "      <th>ID</th>\n",
       "      <th>ItemDescription</th>\n",
       "      <th>Amenities</th>\n",
       "      <th>Comments</th>\n",
       "    </tr>\n",
       "  </thead>\n",
       "  <tbody>\n",
       "    <tr>\n",
       "      <th>1</th>\n",
       "      <td>B5E327D844CA0024C61ADE0FA5606A3F_element_2602</td>\n",
       "      <td>Freshly refurbished, it offers everything you ...</td>\n",
       "      <td>Bathtub, Hair dryer, Cleaning products, Hot wa...</td>\n",
       "      <td>['We had a lovely holiday and thought apartmen...</td>\n",
       "    </tr>\n",
       "    <tr>\n",
       "      <th>3</th>\n",
       "      <td>B5E327D844CA0024C61ADE0FA5606A3F_element_2604</td>\n",
       "      <td>A truly luxury class apartment set in beautifu...</td>\n",
       "      <td>Beach view, Pool view, Garden view, Hair dryer...</td>\n",
       "      <td>['Very nice stay, place was comfortable and mo...</td>\n",
       "    </tr>\n",
       "    <tr>\n",
       "      <th>13</th>\n",
       "      <td>B5E327D844CA0024C61ADE0FA5606A3F_element_2614</td>\n",
       "      <td>COMPLEX WITH POOL, A LESS THAN 400 METERS FROM...</td>\n",
       "      <td>Pool view, Valley view, Garden view, Bathtub, ...</td>\n",
       "      <td>['We had a lovely week in Nerja!\\nThe apartmen...</td>\n",
       "    </tr>\n",
       "    <tr>\n",
       "      <th>15</th>\n",
       "      <td>B5E327D844CA0024C61ADE0FA5606A3F_element_2616</td>\n",
       "      <td>Comfortable and stylish, this traditional and ...</td>\n",
       "      <td>Courtyard view, Mountain view, Hair dryer, Sha...</td>\n",
       "      <td>['Absolutely Great!', 'This was the best Airbn...</td>\n",
       "    </tr>\n",
       "    <tr>\n",
       "      <th>17</th>\n",
       "      <td>B5E327D844CA0024C61ADE0FA5606A3F_element_2618</td>\n",
       "      <td>Our newly renovated 2 bed, 2 bath apartment is...</td>\n",
       "      <td>Garden view, Bay view, Hair dryer, Cleaning pr...</td>\n",
       "      <td>[\"Helena's communications were great and her a...</td>\n",
       "    </tr>\n",
       "    <tr>\n",
       "      <th>...</th>\n",
       "      <td>...</td>\n",
       "      <td>...</td>\n",
       "      <td>...</td>\n",
       "      <td>...</td>\n",
       "    </tr>\n",
       "    <tr>\n",
       "      <th>8855</th>\n",
       "      <td>68DB3E111AFB55A19D1E62E75E89B469_element_835</td>\n",
       "      <td>The City Oasis is one of five listings of the ...</td>\n",
       "      <td>Courtyard view, City skyline view, Hair dryer,...</td>\n",
       "      <td>[\"We thoroughly enjoyed our stay at Christine'...</td>\n",
       "    </tr>\n",
       "    <tr>\n",
       "      <th>8858</th>\n",
       "      <td>FA13E440773D3D25A9290BCF42CBF87C_element_1898</td>\n",
       "      <td>Newly Renovated two-story villa DIRECTLY on Sa...</td>\n",
       "      <td>Sea view, Ocean view, Beach view, Hair dryer, ...</td>\n",
       "      <td>['Lidiya was an incredible host! Very quick to...</td>\n",
       "    </tr>\n",
       "    <tr>\n",
       "      <th>8862</th>\n",
       "      <td>7CA9D0F980782E6657121EBA73AA5392_element_1376</td>\n",
       "      <td>The house is situated in the middle between G�...</td>\n",
       "      <td>Hair dryer, Shampoo, Hot water, Essentials, Ha...</td>\n",
       "      <td>['Bart was a good host with lots of info on re...</td>\n",
       "    </tr>\n",
       "    <tr>\n",
       "      <th>8876</th>\n",
       "      <td>3FD56D3495BE98F0AC204DB14061F714_element_831</td>\n",
       "      <td>Take a break and unwind at this peaceful oasis...</td>\n",
       "      <td>Garden view, Mountain view, Pool view, Hair dr...</td>\n",
       "      <td>['Very nice and secure place as described. Rah...</td>\n",
       "    </tr>\n",
       "    <tr>\n",
       "      <th>8877</th>\n",
       "      <td>45193E9F53E558E0F65D622C7F771D2D_element_1620</td>\n",
       "      <td>Our spacious and comfy apartment is situated o...</td>\n",
       "      <td>Courtyard view, Garden view, Hair dryer, Clean...</td>\n",
       "      <td>[\"Karen's place is in an idyllic setting, slig...</td>\n",
       "    </tr>\n",
       "  </tbody>\n",
       "</table>\n",
       "<p>1667 rows × 4 columns</p>\n",
       "</div>"
      ],
      "text/plain": [
       "                                                 ID  \\\n",
       "1     B5E327D844CA0024C61ADE0FA5606A3F_element_2602   \n",
       "3     B5E327D844CA0024C61ADE0FA5606A3F_element_2604   \n",
       "13    B5E327D844CA0024C61ADE0FA5606A3F_element_2614   \n",
       "15    B5E327D844CA0024C61ADE0FA5606A3F_element_2616   \n",
       "17    B5E327D844CA0024C61ADE0FA5606A3F_element_2618   \n",
       "...                                             ...   \n",
       "8855   68DB3E111AFB55A19D1E62E75E89B469_element_835   \n",
       "8858  FA13E440773D3D25A9290BCF42CBF87C_element_1898   \n",
       "8862  7CA9D0F980782E6657121EBA73AA5392_element_1376   \n",
       "8876   3FD56D3495BE98F0AC204DB14061F714_element_831   \n",
       "8877  45193E9F53E558E0F65D622C7F771D2D_element_1620   \n",
       "\n",
       "                                        ItemDescription  \\\n",
       "1     Freshly refurbished, it offers everything you ...   \n",
       "3     A truly luxury class apartment set in beautifu...   \n",
       "13    COMPLEX WITH POOL, A LESS THAN 400 METERS FROM...   \n",
       "15    Comfortable and stylish, this traditional and ...   \n",
       "17    Our newly renovated 2 bed, 2 bath apartment is...   \n",
       "...                                                 ...   \n",
       "8855  The City Oasis is one of five listings of the ...   \n",
       "8858  Newly Renovated two-story villa DIRECTLY on Sa...   \n",
       "8862  The house is situated in the middle between G�...   \n",
       "8876  Take a break and unwind at this peaceful oasis...   \n",
       "8877  Our spacious and comfy apartment is situated o...   \n",
       "\n",
       "                                              Amenities  \\\n",
       "1     Bathtub, Hair dryer, Cleaning products, Hot wa...   \n",
       "3     Beach view, Pool view, Garden view, Hair dryer...   \n",
       "13    Pool view, Valley view, Garden view, Bathtub, ...   \n",
       "15    Courtyard view, Mountain view, Hair dryer, Sha...   \n",
       "17    Garden view, Bay view, Hair dryer, Cleaning pr...   \n",
       "...                                                 ...   \n",
       "8855  Courtyard view, City skyline view, Hair dryer,...   \n",
       "8858  Sea view, Ocean view, Beach view, Hair dryer, ...   \n",
       "8862  Hair dryer, Shampoo, Hot water, Essentials, Ha...   \n",
       "8876  Garden view, Mountain view, Pool view, Hair dr...   \n",
       "8877  Courtyard view, Garden view, Hair dryer, Clean...   \n",
       "\n",
       "                                               Comments  \n",
       "1     ['We had a lovely holiday and thought apartmen...  \n",
       "3     ['Very nice stay, place was comfortable and mo...  \n",
       "13    ['We had a lovely week in Nerja!\\nThe apartmen...  \n",
       "15    ['Absolutely Great!', 'This was the best Airbn...  \n",
       "17    [\"Helena's communications were great and her a...  \n",
       "...                                                 ...  \n",
       "8855  [\"We thoroughly enjoyed our stay at Christine'...  \n",
       "8858  ['Lidiya was an incredible host! Very quick to...  \n",
       "8862  ['Bart was a good host with lots of info on re...  \n",
       "8876  ['Very nice and secure place as described. Rah...  \n",
       "8877  [\"Karen's place is in an idyllic setting, slig...  \n",
       "\n",
       "[1667 rows x 4 columns]"
      ]
     },
     "execution_count": 10,
     "metadata": {},
     "output_type": "execute_result"
    }
   ],
   "source": [
    "df_embedings"
   ]
  },
  {
   "cell_type": "code",
   "execution_count": null,
   "id": "3766969b-c47f-4379-af09-11a2d80b4c43",
   "metadata": {},
   "outputs": [],
   "source": [
    "df_embedings[['ItemDescriptionEmbedings', 'AmenitiesEmbedings', 'CommentsEmbedings']] = \\\n",
    "                df_embedings[['ItemDescription', 'Amenities','Comments']]\\\n",
    "                .apply(lambda x: [get_embedings(text,512,True) for text in x])\n"
   ]
  },
  {
   "cell_type": "code",
   "execution_count": null,
   "id": "0c9e8c6f-96f3-4cf3-95e3-d0be8ed8ff5c",
   "metadata": {},
   "outputs": [],
   "source": [
    "emb_dict = df_embedings[['ID','CommentsEmbedings','ItemDescriptionEmbedings',\"AmenitiesEmbedings\"]].to_dict()"
   ]
  },
  {
   "cell_type": "code",
   "execution_count": null,
   "id": "b6b853e9-c0a8-4e38-b39b-153fcee9d7c1",
   "metadata": {},
   "outputs": [],
   "source": [
    "for key in emb_dict:\n",
    "    if key == \"ID\":\n",
    "        continue\n",
    "        \n",
    "    for inner_key,value in emb_dict[key].items():\n",
    "        emb_dict[key][inner_key] = value.tolist()\n"
   ]
  },
  {
   "cell_type": "code",
   "execution_count": 15,
   "id": "25f94cda-2f24-43e3-a6e8-861848b7c5d4",
   "metadata": {},
   "outputs": [
    {
     "name": "stderr",
     "output_type": "stream",
     "text": [
      "\n",
      "KeyboardInterrupt\n",
      "\n"
     ]
    }
   ],
   "source": [
    "emb_dict"
   ]
  },
  {
   "cell_type": "code",
   "execution_count": 17,
   "id": "518de4b9-a87f-479a-8e9c-4bcc14c33a1c",
   "metadata": {},
   "outputs": [],
   "source": [
    "with open(\"data/content_data/emdebings.json\",\"w\") as file:\n",
    "    json.dump(emb_dict,file)"
   ]
  },
  {
   "cell_type": "code",
   "execution_count": 97,
   "id": "3f42831d-841f-4205-85b6-8f7f6cab8b8d",
   "metadata": {},
   "outputs": [],
   "source": [
    "with open(\"emdbs.json\",\"r\") as file:\n",
    "    ddict = json.load(file)"
   ]
  },
  {
   "cell_type": "code",
   "execution_count": 19,
   "id": "a935d085-2379-4cbf-8a05-7628a9b86344",
   "metadata": {},
   "outputs": [],
   "source": [
    "with open(\"data/content_data/emdebings.json\",'r') as file:\n",
    "    embedings = json.load(file)\n",
    "\n",
    "for key in embedings:\n",
    "    if key == \"ID\":\n",
    "        continue\n",
    "    \n",
    "    for inner_key,value in embedings.items():\n",
    "        embedings[key][inner_key] = np.array(value)\n"
   ]
  },
  {
   "cell_type": "code",
   "execution_count": 20,
   "id": "3f1c815b-d70c-474b-9e5c-316d87b292cf",
   "metadata": {},
   "outputs": [],
   "source": [
    "emd_df = pd.DataFrame(embedings)"
   ]
  },
  {
   "cell_type": "code",
   "execution_count": null,
   "id": "cc72e789-eac2-4745-ad5b-ec7cc804c215",
   "metadata": {},
   "outputs": [],
   "source": [
    "embedings"
   ]
  },
  {
   "cell_type": "code",
   "execution_count": 63,
   "id": "6ae579ef-c97c-4a46-b243-d8a2109fe836",
   "metadata": {},
   "outputs": [
    {
     "data": {
      "text/plain": [
       "Index(['ID', 'ItemTitle', 'Section', 'ItemReview', 'ItemReviewBySections',\n",
       "       'ItemRatings', 'HostLevel', 'Location', 'Country', 'State', 'City',\n",
       "       'NumberOfGuest', 'NumberOfBedrooms', 'NumberOfBeds', 'NumberOfBaths',\n",
       "       'CurrentPrice', 'PriceBefore', 'Currency', 'ItemUnit', 'PriceReview',\n",
       "       'PriceRatings', 'ItemDescription', 'Amenities',\n",
       "       'AmenitiesWithCategories', 'NotIncludedAmenity', 'Comments',\n",
       "       'ItemDescriptionEmbedings', 'AmenitiesEmbedings', 'CommentsEmbedings'],\n",
       "      dtype='object')"
      ]
     },
     "execution_count": 63,
     "metadata": {},
     "output_type": "execute_result"
    }
   ],
   "source": [
    "df_full_not_na.columns"
   ]
  },
  {
   "cell_type": "code",
   "execution_count": 18,
   "id": "ddd30f42-c08d-43b6-9567-f42f7320d053",
   "metadata": {},
   "outputs": [],
   "source": []
  },
  {
   "cell_type": "code",
   "execution_count": 58,
   "id": "603c3983-d3b8-43fb-97db-c3752837ad47",
   "metadata": {},
   "outputs": [],
   "source": [
    "# text embedings"
   ]
  },
  {
   "cell_type": "code",
   "execution_count": 35,
   "id": "8a51782f-38af-4154-b3a7-10f74d3e0642",
   "metadata": {},
   "outputs": [],
   "source": [
    "# import sklearn\n",
    "# from sklearn.feature_extraction.text import TfidfVectorizer\n",
    "# from sklearn.metrics.pairwise import cosine_similarity\n",
    "\n"
   ]
  },
  {
   "cell_type": "code",
   "execution_count": null,
   "id": "67ade08a-35b8-4cb6-9b91-d0272ab6a9c2",
   "metadata": {},
   "outputs": [],
   "source": []
  },
  {
   "cell_type": "code",
   "execution_count": null,
   "id": "db803512-7c6b-4309-b571-2bac1876bc21",
   "metadata": {},
   "outputs": [],
   "source": []
  }
 ],
 "metadata": {
  "kernelspec": {
   "display_name": "Python 3 (ipykernel)",
   "language": "python",
   "name": "python3"
  },
  "language_info": {
   "codemirror_mode": {
    "name": "ipython",
    "version": 3
   },
   "file_extension": ".py",
   "mimetype": "text/x-python",
   "name": "python",
   "nbconvert_exporter": "python",
   "pygments_lexer": "ipython3",
   "version": "3.10.12"
  }
 },
 "nbformat": 4,
 "nbformat_minor": 5
}
