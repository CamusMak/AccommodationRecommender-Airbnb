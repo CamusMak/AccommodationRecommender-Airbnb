{
 "cells": [
  {
   "cell_type": "code",
   "execution_count": 4,
   "id": "3bda820f-11fa-4c2b-bfda-d3d52e48745f",
   "metadata": {},
   "outputs": [],
   "source": [
    "import numpy as np\n",
    "import pandas as pd\n",
    "import matplotlib.pyplot as plt\n",
    "\n",
    "# import nltk\n",
    "# from nltk.corpus import stopwords\n",
    "from gensim.parsing.preprocessing import remove_stopwords \n",
    "import json\n",
    "\n",
    "# from nltk.tokenize import word_tokenize\n",
    "# from nltk.stem import WordNetLemmatizer\n",
    "# from sklearn.feature_extraction.text import TfidfVectorizer\n",
    "# from sklearn.metrics.pairwise import cosine_similarity\n",
    "\n",
    "import sys\n",
    "sys.path.append(\"../AccommodationRecommender-Airbnb/\")\n",
    "\n",
    "from utils.text_similarity import get_embedings,get_similarity\n",
    "\n",
    "import warnings\n",
    "\n",
    "warnings.filterwarnings(\"ignore\")\n"
   ]
  },
  {
   "cell_type": "code",
   "execution_count": null,
   "id": "13691080-ff30-4af8-9d9e-4d77c332ee10",
   "metadata": {},
   "outputs": [],
   "source": []
  },
  {
   "cell_type": "code",
   "execution_count": 26,
   "id": "a100996f-e45b-44b3-8335-982f9dacd49b",
   "metadata": {},
   "outputs": [],
   "source": [
    "df = pd.read_csv(\"data/content_data/content_data.csv\")"
   ]
  },
  {
   "cell_type": "code",
   "execution_count": 27,
   "id": "3df7834e-1917-469c-9318-0205ec0dc32a",
   "metadata": {},
   "outputs": [],
   "source": [
    "# not_na_df[\"ItemDescriptionEmbedings\"][0]"
   ]
  },
  {
   "cell_type": "code",
   "execution_count": 35,
   "id": "c35d4661-8fac-4543-a702-c828d252f3bf",
   "metadata": {},
   "outputs": [],
   "source": [
    "df_not_na_price  = df.dropna(subset=['ItemReview','Location','NumberOfGuest','NumberOfBedrooms', 'NumberOfBeds', 'NumberOfBaths',\n",
    "                 'CurrentPrice'])\n",
    "\n",
    "df_full_not_na = df.drop(\"URL\",axis=1).dropna()"
   ]
  },
  {
   "cell_type": "code",
   "execution_count": 36,
   "id": "e8196888-9edb-4fdd-a84c-10668b62f848",
   "metadata": {},
   "outputs": [],
   "source": [
    "# location in one list\n",
    "df_not_na_price[['lower_country','lower_location','lower_city','lower_state']] = df_not_na_price[['Country','Location','City','State']].apply(lambda x: x.str.lower())\n",
    "df_not_na_price['location_list'] = df_not_na_price['lower_location'].apply(lambda x: list(map(str.strip,x.split(\",\"))))\n",
    "\n",
    "    "
   ]
  },
  {
   "cell_type": "code",
   "execution_count": 37,
   "id": "c902d600-9cda-44bb-849c-0ced93b76dab",
   "metadata": {},
   "outputs": [],
   "source": [
    "df_not_na_price.to_csv(\"data/content_data/not_na_data_price.csv\",index=False)\n",
    "df_full_not_na.to_csv(\"data/content_data/full_not_na_data.csv\",index=False)"
   ]
  },
  {
   "cell_type": "code",
   "execution_count": 30,
   "id": "4c761fe2-3059-4884-b763-1193524ad11e",
   "metadata": {},
   "outputs": [],
   "source": [
    "# text embedings"
   ]
  },
  {
   "cell_type": "code",
   "execution_count": 31,
   "id": "4d00fa5d-a887-46b6-b76f-90e933787be1",
   "metadata": {},
   "outputs": [
    {
     "data": {
      "text/plain": [
       "Index(['ID', 'ItemTitle', 'Section', 'ItemReview', 'ItemReviewBySections',\n",
       "       'ItemRatings', 'HostLevel', 'Location', 'Country', 'State', 'City',\n",
       "       'NumberOfGuest', 'NumberOfBedrooms', 'NumberOfBeds', 'NumberOfBaths',\n",
       "       'CurrentPrice', 'PriceBefore', 'Currency', 'ItemUnit', 'PriceReview',\n",
       "       'PriceRatings', 'ItemDescription', 'Amenities',\n",
       "       'AmenitiesWithCategories', 'NotIncludedAmenity', 'Comments'],\n",
       "      dtype='object')"
      ]
     },
     "execution_count": 31,
     "metadata": {},
     "output_type": "execute_result"
    }
   ],
   "source": [
    "df_full_not_na.columns"
   ]
  },
  {
   "cell_type": "code",
   "execution_count": 33,
   "id": "66b07cb6-9e3a-4d82-a08d-9c2508da1d27",
   "metadata": {},
   "outputs": [],
   "source": [
    "df_embedings = df_full_not_na[['ID','ItemDescription', 'Amenities', 'Comments']]"
   ]
  },
  {
   "cell_type": "code",
   "execution_count": 25,
   "id": "3766969b-c47f-4379-af09-11a2d80b4c43",
   "metadata": {},
   "outputs": [],
   "source": [
    "df_embedings[['ItemDescriptionEmbedings', 'AmenitiesEmbedings', 'CommentsEmbedings']] = \\\n",
    "                df_embedings[['ItemDescription', 'Amenities','Comments']]\\\n",
    "                .apply(lambda x: [get_embedings(text,512,True) for text in x])\n"
   ]
  },
  {
   "cell_type": "code",
   "execution_count": 12,
   "id": "0c9e8c6f-96f3-4cf3-95e3-d0be8ed8ff5c",
   "metadata": {},
   "outputs": [],
   "source": [
    "emb_dict = df_embedings[['ID','CommentsEmbedings','ItemDescriptionEmbedings',\"AmenitiesEmbedings\"]].to_dict()"
   ]
  },
  {
   "cell_type": "code",
   "execution_count": 13,
   "id": "b6b853e9-c0a8-4e38-b39b-153fcee9d7c1",
   "metadata": {},
   "outputs": [],
   "source": [
    "for key in emb_dict:\n",
    "    if key == \"ID\":\n",
    "        continue\n",
    "        \n",
    "    for inner_key,value in emb_dict[key].items():\n",
    "        emb_dict[key][inner_key] = value.tolist()\n"
   ]
  },
  {
   "cell_type": "code",
   "execution_count": 15,
   "id": "25f94cda-2f24-43e3-a6e8-861848b7c5d4",
   "metadata": {},
   "outputs": [
    {
     "name": "stderr",
     "output_type": "stream",
     "text": [
      "\n",
      "KeyboardInterrupt\n",
      "\n"
     ]
    }
   ],
   "source": [
    "emb_dict"
   ]
  },
  {
   "cell_type": "code",
   "execution_count": 17,
   "id": "518de4b9-a87f-479a-8e9c-4bcc14c33a1c",
   "metadata": {},
   "outputs": [],
   "source": [
    "with open(\"data/content_data/emdebings.json\",\"w\") as file:\n",
    "    json.dump(emb_dict,file)"
   ]
  },
  {
   "cell_type": "code",
   "execution_count": 97,
   "id": "3f42831d-841f-4205-85b6-8f7f6cab8b8d",
   "metadata": {},
   "outputs": [],
   "source": [
    "with open(\"emdbs.json\",\"r\") as file:\n",
    "    ddict = json.load(file)"
   ]
  },
  {
   "cell_type": "code",
   "execution_count": 19,
   "id": "a935d085-2379-4cbf-8a05-7628a9b86344",
   "metadata": {},
   "outputs": [],
   "source": [
    "with open(\"data/content_data/emdebings.json\",'r') as file:\n",
    "    embedings = json.load(file)\n",
    "\n",
    "for key in embedings:\n",
    "    if key == \"ID\":\n",
    "        continue\n",
    "    \n",
    "    for inner_key,value in embedings.items():\n",
    "        embedings[key][inner_key] = np.array(value)\n"
   ]
  },
  {
   "cell_type": "code",
   "execution_count": 20,
   "id": "3f1c815b-d70c-474b-9e5c-316d87b292cf",
   "metadata": {},
   "outputs": [],
   "source": [
    "emd_df = pd.DataFrame(embedings)"
   ]
  },
  {
   "cell_type": "code",
   "execution_count": null,
   "id": "cc72e789-eac2-4745-ad5b-ec7cc804c215",
   "metadata": {},
   "outputs": [],
   "source": [
    "embedings"
   ]
  },
  {
   "cell_type": "code",
   "execution_count": 63,
   "id": "6ae579ef-c97c-4a46-b243-d8a2109fe836",
   "metadata": {},
   "outputs": [
    {
     "data": {
      "text/plain": [
       "Index(['ID', 'ItemTitle', 'Section', 'ItemReview', 'ItemReviewBySections',\n",
       "       'ItemRatings', 'HostLevel', 'Location', 'Country', 'State', 'City',\n",
       "       'NumberOfGuest', 'NumberOfBedrooms', 'NumberOfBeds', 'NumberOfBaths',\n",
       "       'CurrentPrice', 'PriceBefore', 'Currency', 'ItemUnit', 'PriceReview',\n",
       "       'PriceRatings', 'ItemDescription', 'Amenities',\n",
       "       'AmenitiesWithCategories', 'NotIncludedAmenity', 'Comments',\n",
       "       'ItemDescriptionEmbedings', 'AmenitiesEmbedings', 'CommentsEmbedings'],\n",
       "      dtype='object')"
      ]
     },
     "execution_count": 63,
     "metadata": {},
     "output_type": "execute_result"
    }
   ],
   "source": [
    "df_full_not_na.columns"
   ]
  },
  {
   "cell_type": "code",
   "execution_count": 18,
   "id": "ddd30f42-c08d-43b6-9567-f42f7320d053",
   "metadata": {},
   "outputs": [],
   "source": []
  },
  {
   "cell_type": "code",
   "execution_count": 58,
   "id": "603c3983-d3b8-43fb-97db-c3752837ad47",
   "metadata": {},
   "outputs": [],
   "source": [
    "# text embedings"
   ]
  },
  {
   "cell_type": "code",
   "execution_count": 35,
   "id": "8a51782f-38af-4154-b3a7-10f74d3e0642",
   "metadata": {},
   "outputs": [],
   "source": [
    "# import sklearn\n",
    "# from sklearn.feature_extraction.text import TfidfVectorizer\n",
    "# from sklearn.metrics.pairwise import cosine_similarity\n",
    "\n"
   ]
  },
  {
   "cell_type": "code",
   "execution_count": null,
   "id": "67ade08a-35b8-4cb6-9b91-d0272ab6a9c2",
   "metadata": {},
   "outputs": [],
   "source": []
  },
  {
   "cell_type": "code",
   "execution_count": null,
   "id": "db803512-7c6b-4309-b571-2bac1876bc21",
   "metadata": {},
   "outputs": [],
   "source": []
  }
 ],
 "metadata": {
  "kernelspec": {
   "display_name": "Python 3 (ipykernel)",
   "language": "python",
   "name": "python3"
  },
  "language_info": {
   "codemirror_mode": {
    "name": "ipython",
    "version": 3
   },
   "file_extension": ".py",
   "mimetype": "text/x-python",
   "name": "python",
   "nbconvert_exporter": "python",
   "pygments_lexer": "ipython3",
   "version": "3.10.12"
  }
 },
 "nbformat": 4,
 "nbformat_minor": 5
}
