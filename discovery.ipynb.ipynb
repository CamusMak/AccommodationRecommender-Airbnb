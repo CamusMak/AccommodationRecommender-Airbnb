{
 "cells": [
  {
   "cell_type": "code",
   "execution_count": 7,
   "id": "3bda820f-11fa-4c2b-bfda-d3d52e48745f",
   "metadata": {},
   "outputs": [],
   "source": [
    "import numpy as np\n",
    "import pandas as pd\n",
    "import matplotlib.pyplot as plt\n",
    "\n",
    "\n",
    "from gensim.parsing.preprocessing import remove_stopwords \n",
    "import json\n",
    "\n",
    "\n",
    "import sys\n",
    "sys.path.append(\"../AccommodationRecommender-Airbnb/\")\n",
    "\n",
    "from utils.text_similarity import get_embedings,get_similarity\n",
    "\n",
    "import warnings\n",
    "\n",
    "warnings.filterwarnings(\"ignore\")\n"
   ]
  },
  {
   "cell_type": "code",
   "execution_count": 8,
   "id": "d7550532-dbcb-4473-9a82-d2c2442db341",
   "metadata": {},
   "outputs": [],
   "source": [
    "# data frame"
   ]
  },
  {
   "cell_type": "code",
   "execution_count": null,
   "id": "633e37ef-ff9a-49c6-b598-c4d08705fd24",
   "metadata": {},
   "outputs": [],
   "source": []
  },
  {
   "cell_type": "code",
   "execution_count": 10,
   "id": "a100996f-e45b-44b3-8335-982f9dacd49b",
   "metadata": {},
   "outputs": [],
   "source": [
    "df = pd.read_excel(\"data/content_data/content_data.xlsx\")\n"
   ]
  },
  {
   "cell_type": "code",
   "execution_count": 12,
   "id": "3df7834e-1917-469c-9318-0205ec0dc32a",
   "metadata": {},
   "outputs": [
    {
     "data": {
      "text/html": [
       "<div>\n",
       "<style scoped>\n",
       "    .dataframe tbody tr th:only-of-type {\n",
       "        vertical-align: middle;\n",
       "    }\n",
       "\n",
       "    .dataframe tbody tr th {\n",
       "        vertical-align: top;\n",
       "    }\n",
       "\n",
       "    .dataframe thead th {\n",
       "        text-align: right;\n",
       "    }\n",
       "</style>\n",
       "<table border=\"1\" class=\"dataframe\">\n",
       "  <thead>\n",
       "    <tr style=\"text-align: right;\">\n",
       "      <th></th>\n",
       "      <th>ItemReview</th>\n",
       "      <th>ItemRatings</th>\n",
       "      <th>NumberOfGuest</th>\n",
       "      <th>NumberOfBedrooms</th>\n",
       "      <th>NumberOfBeds</th>\n",
       "      <th>NumberOfBaths</th>\n",
       "      <th>CurrentPrice</th>\n",
       "      <th>PriceBefore</th>\n",
       "      <th>PriceReview</th>\n",
       "      <th>PriceRatings</th>\n",
       "    </tr>\n",
       "  </thead>\n",
       "  <tbody>\n",
       "    <tr>\n",
       "      <th>count</th>\n",
       "      <td>6148.000000</td>\n",
       "      <td>6148.000000</td>\n",
       "      <td>7175.000000</td>\n",
       "      <td>7357.0</td>\n",
       "      <td>7356.0</td>\n",
       "      <td>7221.000000</td>\n",
       "      <td>8659.000000</td>\n",
       "      <td>8659.000000</td>\n",
       "      <td>6147.000000</td>\n",
       "      <td>6147.000000</td>\n",
       "    </tr>\n",
       "    <tr>\n",
       "      <th>mean</th>\n",
       "      <td>4.818229</td>\n",
       "      <td>56.172739</td>\n",
       "      <td>4.864111</td>\n",
       "      <td>1.0</td>\n",
       "      <td>2.0</td>\n",
       "      <td>1.623321</td>\n",
       "      <td>132.189745</td>\n",
       "      <td>134.152904</td>\n",
       "      <td>4.818199</td>\n",
       "      <td>56.168375</td>\n",
       "    </tr>\n",
       "    <tr>\n",
       "      <th>std</th>\n",
       "      <td>0.226102</td>\n",
       "      <td>82.670231</td>\n",
       "      <td>2.772443</td>\n",
       "      <td>0.0</td>\n",
       "      <td>0.0</td>\n",
       "      <td>1.539842</td>\n",
       "      <td>148.884059</td>\n",
       "      <td>151.144781</td>\n",
       "      <td>0.226109</td>\n",
       "      <td>82.676248</td>\n",
       "    </tr>\n",
       "    <tr>\n",
       "      <th>min</th>\n",
       "      <td>2.670000</td>\n",
       "      <td>3.000000</td>\n",
       "      <td>1.000000</td>\n",
       "      <td>1.0</td>\n",
       "      <td>2.0</td>\n",
       "      <td>0.000000</td>\n",
       "      <td>7.000000</td>\n",
       "      <td>7.000000</td>\n",
       "      <td>2.670000</td>\n",
       "      <td>3.000000</td>\n",
       "    </tr>\n",
       "    <tr>\n",
       "      <th>25%</th>\n",
       "      <td>4.757500</td>\n",
       "      <td>10.000000</td>\n",
       "      <td>3.000000</td>\n",
       "      <td>1.0</td>\n",
       "      <td>2.0</td>\n",
       "      <td>1.000000</td>\n",
       "      <td>43.000000</td>\n",
       "      <td>44.000000</td>\n",
       "      <td>4.755000</td>\n",
       "      <td>10.000000</td>\n",
       "    </tr>\n",
       "    <tr>\n",
       "      <th>50%</th>\n",
       "      <td>4.880000</td>\n",
       "      <td>26.000000</td>\n",
       "      <td>4.000000</td>\n",
       "      <td>1.0</td>\n",
       "      <td>2.0</td>\n",
       "      <td>1.000000</td>\n",
       "      <td>80.000000</td>\n",
       "      <td>80.000000</td>\n",
       "      <td>4.880000</td>\n",
       "      <td>26.000000</td>\n",
       "    </tr>\n",
       "    <tr>\n",
       "      <th>75%</th>\n",
       "      <td>4.970000</td>\n",
       "      <td>68.000000</td>\n",
       "      <td>6.000000</td>\n",
       "      <td>1.0</td>\n",
       "      <td>2.0</td>\n",
       "      <td>2.000000</td>\n",
       "      <td>159.000000</td>\n",
       "      <td>160.000000</td>\n",
       "      <td>4.970000</td>\n",
       "      <td>68.000000</td>\n",
       "    </tr>\n",
       "    <tr>\n",
       "      <th>max</th>\n",
       "      <td>5.000000</td>\n",
       "      <td>873.000000</td>\n",
       "      <td>15.000000</td>\n",
       "      <td>1.0</td>\n",
       "      <td>2.0</td>\n",
       "      <td>38.000000</td>\n",
       "      <td>999.000000</td>\n",
       "      <td>999.000000</td>\n",
       "      <td>5.000000</td>\n",
       "      <td>873.000000</td>\n",
       "    </tr>\n",
       "  </tbody>\n",
       "</table>\n",
       "</div>"
      ],
      "text/plain": [
       "        ItemReview  ItemRatings  NumberOfGuest  NumberOfBedrooms  \\\n",
       "count  6148.000000  6148.000000    7175.000000            7357.0   \n",
       "mean      4.818229    56.172739       4.864111               1.0   \n",
       "std       0.226102    82.670231       2.772443               0.0   \n",
       "min       2.670000     3.000000       1.000000               1.0   \n",
       "25%       4.757500    10.000000       3.000000               1.0   \n",
       "50%       4.880000    26.000000       4.000000               1.0   \n",
       "75%       4.970000    68.000000       6.000000               1.0   \n",
       "max       5.000000   873.000000      15.000000               1.0   \n",
       "\n",
       "       NumberOfBeds  NumberOfBaths  CurrentPrice  PriceBefore  PriceReview  \\\n",
       "count        7356.0    7221.000000   8659.000000  8659.000000  6147.000000   \n",
       "mean            2.0       1.623321    132.189745   134.152904     4.818199   \n",
       "std             0.0       1.539842    148.884059   151.144781     0.226109   \n",
       "min             2.0       0.000000      7.000000     7.000000     2.670000   \n",
       "25%             2.0       1.000000     43.000000    44.000000     4.755000   \n",
       "50%             2.0       1.000000     80.000000    80.000000     4.880000   \n",
       "75%             2.0       2.000000    159.000000   160.000000     4.970000   \n",
       "max             2.0      38.000000    999.000000   999.000000     5.000000   \n",
       "\n",
       "       PriceRatings  \n",
       "count   6147.000000  \n",
       "mean      56.168375  \n",
       "std       82.676248  \n",
       "min        3.000000  \n",
       "25%       10.000000  \n",
       "50%       26.000000  \n",
       "75%       68.000000  \n",
       "max      873.000000  "
      ]
     },
     "execution_count": 12,
     "metadata": {},
     "output_type": "execute_result"
    }
   ],
   "source": [
    "df.describe()"
   ]
  },
  {
   "cell_type": "code",
   "execution_count": 13,
   "id": "c35d4661-8fac-4543-a702-c828d252f3bf",
   "metadata": {},
   "outputs": [],
   "source": [
    "# drop duplicates\n",
    "df_not_na_price  = df.dropna(subset=['ItemReview','Location','NumberOfGuest','NumberOfBedrooms', 'NumberOfBeds', 'NumberOfBaths',\n",
    "                 'CurrentPrice'])\n",
    "\n",
    "df_full_not_na = df.dropna()"
   ]
  },
  {
   "cell_type": "code",
   "execution_count": null,
   "id": "ac3c2ef7-df11-4f9c-af1d-e0d1dbd29d47",
   "metadata": {},
   "outputs": [],
   "source": []
  },
  {
   "cell_type": "code",
   "execution_count": null,
   "id": "32662b2b-89ad-4c46-9dac-71025571d184",
   "metadata": {},
   "outputs": [],
   "source": []
  },
  {
   "cell_type": "code",
   "execution_count": 14,
   "id": "e8196888-9edb-4fdd-a84c-10668b62f848",
   "metadata": {},
   "outputs": [],
   "source": [
    "# location in one list to get all location input\n",
    "df_not_na_price[['lower_country','lower_location','lower_city','lower_state']] = df_not_na_price[['Country','Location','City','State']].apply(lambda x: x.str.lower())\n",
    "df_not_na_price['location_list'] = df_not_na_price['lower_location'].apply(lambda x: list(map(str.strip,x.split(\",\"))))\n",
    "\n",
    "\n",
    "df_full_not_na[['lower_country','lower_location','lower_city','lower_state']] = df_full_not_na[['Country','Location','City','State']].apply(lambda x: x.str.lower())\n",
    "df_full_not_na['location_list'] = df_full_not_na['lower_location'].apply(lambda x: list(map(str.strip,x.split(\",\"))))\n",
    "\n",
    "    "
   ]
  },
  {
   "cell_type": "code",
   "execution_count": 15,
   "id": "c902d600-9cda-44bb-849c-0ced93b76dab",
   "metadata": {},
   "outputs": [],
   "source": [
    "# save data sets\n",
    "df_not_na_price.to_csv(\"data/content_data/not_na_data_price.csv\",index=False)\n",
    "df_full_not_na.to_csv(\"data/content_data/full_not_na_data.csv\",index=False)"
   ]
  },
  {
   "cell_type": "code",
   "execution_count": 16,
   "id": "66b07cb6-9e3a-4d82-a08d-9c2508da1d27",
   "metadata": {},
   "outputs": [],
   "source": [
    "# text embedings for similarity\n",
    "df_embedings = df_full_not_na[['ID','ItemDescription', 'Amenities', 'Comments']]"
   ]
  },
  {
   "cell_type": "code",
   "execution_count": 18,
   "id": "3766969b-c47f-4379-af09-11a2d80b4c43",
   "metadata": {},
   "outputs": [],
   "source": [
    "df_embedings[['ItemDescriptionEmbedings', 'AmenitiesEmbedings', 'CommentsEmbedings']] = \\\n",
    "                df_embedings[['ItemDescription', 'Amenities','Comments']]\\\n",
    "                .apply(lambda x: [get_embedings(text,512,True) for text in x])\n"
   ]
  },
  {
   "cell_type": "code",
   "execution_count": 19,
   "id": "0c9e8c6f-96f3-4cf3-95e3-d0be8ed8ff5c",
   "metadata": {},
   "outputs": [],
   "source": [
    "emb_dict = df_embedings[['ID','CommentsEmbedings','ItemDescriptionEmbedings',\"AmenitiesEmbedings\"]].to_dict()"
   ]
  },
  {
   "cell_type": "code",
   "execution_count": 20,
   "id": "b6b853e9-c0a8-4e38-b39b-153fcee9d7c1",
   "metadata": {},
   "outputs": [],
   "source": [
    "for key in emb_dict:\n",
    "    if key == \"ID\":\n",
    "        continue\n",
    "        \n",
    "    for inner_key,value in emb_dict[key].items():\n",
    "        emb_dict[key][inner_key] = value.tolist()\n"
   ]
  },
  {
   "cell_type": "code",
   "execution_count": 21,
   "id": "518de4b9-a87f-479a-8e9c-4bcc14c33a1c",
   "metadata": {},
   "outputs": [],
   "source": [
    "# save embedings\n",
    "with open(\"data/content_data/emdebings.json\",\"w\") as file:\n",
    "    json.dump(emb_dict,file)"
   ]
  },
  {
   "cell_type": "code",
   "execution_count": null,
   "id": "67ade08a-35b8-4cb6-9b91-d0272ab6a9c2",
   "metadata": {},
   "outputs": [],
   "source": []
  },
  {
   "cell_type": "code",
   "execution_count": null,
   "id": "db803512-7c6b-4309-b571-2bac1876bc21",
   "metadata": {},
   "outputs": [],
   "source": []
  }
 ],
 "metadata": {
  "kernelspec": {
   "display_name": "Python 3 (ipykernel)",
   "language": "python",
   "name": "python3"
  },
  "language_info": {
   "codemirror_mode": {
    "name": "ipython",
    "version": 3
   },
   "file_extension": ".py",
   "mimetype": "text/x-python",
   "name": "python",
   "nbconvert_exporter": "python",
   "pygments_lexer": "ipython3",
   "version": "3.10.12"
  }
 },
 "nbformat": 4,
 "nbformat_minor": 5
}
